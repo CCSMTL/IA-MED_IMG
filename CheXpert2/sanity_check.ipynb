{
 "cells": [
  {
   "cell_type": "code",
   "execution_count": 37,
   "metadata": {},
   "outputs": [],
   "source": [
    "import os\n",
    "\n",
    "import pandas as pd\n",
    "%matplotlib inline\n",
    "%matplotlib notebook\n",
    "from CheXpert2 import names\n",
    "import cv2\n",
    "from CheXpert2.dataloaders.CXRLoader import CXRLoader\n",
    "import matplotlib.pyplot as plt\n",
    "import numpy as np\n",
    "from PIL import Image"
   ]
  },
  {
   "cell_type": "markdown",
   "source": [],
   "metadata": {
    "collapsed": false
   }
  },
  {
   "cell_type": "code",
   "execution_count": 38,
   "metadata": {},
   "outputs": [
    {
     "name": "stderr",
     "output_type": "stream",
     "text": [
      "/mnt/c/Users/bejo2361/PycharmProjects/IA-MED_IMG/CheXpert2/dataloaders/CXRLoader.py:179: FutureWarning: The default value of numeric_only in DataFrameGroupBy.mean is deprecated. In a future version, numeric_only will default to False. Either specify numeric_only or select only columns which should be valid for the function.\n",
      "  data=data.groupby(\"Exam ID\").mean().round(0)\n"
     ]
    }
   ],
   "source": [
    "img_dir=\"/mnt/c/Users/bejo2361/PycharmProjects/IA-MED_IMG\"\n",
    "dataset = CXRLoader(\n",
    "            split=\"Train\",\n",
    "            img_dir=img_dir,\n",
    "            img_size=224,\n",
    "            prob=[0,1,0,1,0,0],\n",
    "            intensity=0,\n",
    "            label_smoothing=0,\n",
    "            channels=1,\n",
    "            use_frontal=False,\n",
    "            datasets=[\"CIUSSS\"]\n",
    "        )\n",
    "i=0"
   ]
  },
  {
   "cell_type": "code",
   "execution_count": 39,
   "metadata": {},
   "outputs": [
    {
     "name": "stderr",
     "output_type": "stream",
     "text": [
      "[ WARN:0@92323.405] global /io/opencv/modules/imgcodecs/src/loadsave.cpp (239) findDecoder imread_('/mnt/c/Users/bejo2361/PycharmProjects/IA-MED_IMG/data/public_data/Images_CIUSSS/1000013805945086/1000013805945086_view0002.jpg'): can't open/read file: check file path/integrity\n"
     ]
    },
    {
     "ename": "error",
     "evalue": "OpenCV(4.6.0) /io/opencv/modules/imgproc/src/resize.cpp:4052: error: (-215:Assertion failed) !ssize.empty() in function 'resize'\n",
     "output_type": "error",
     "traceback": [
      "\u001B[0;31m---------------------------------------------------------------------------\u001B[0m",
      "\u001B[0;31merror\u001B[0m                                     Traceback (most recent call last)",
      "Cell \u001B[0;32mIn [39], line 1\u001B[0m\n\u001B[0;32m----> 1\u001B[0m images,label,idx \u001B[38;5;241m=\u001B[39m dataset[i]\n\u001B[1;32m      2\u001B[0m \u001B[38;5;28mprint\u001B[39m(images\u001B[38;5;241m.\u001B[39mshape)\n\u001B[1;32m      3\u001B[0m frontal,lateral \u001B[38;5;241m=\u001B[39m   images[\u001B[38;5;241m0\u001B[39m,:,:]\u001B[38;5;241m.\u001B[39mnumpy()\u001B[38;5;241m.\u001B[39mastype(np\u001B[38;5;241m.\u001B[39muint8),images[\u001B[38;5;241m1\u001B[39m,:,:]\u001B[38;5;241m.\u001B[39mnumpy()\u001B[38;5;241m.\u001B[39mastype(np\u001B[38;5;241m.\u001B[39muint8)\n",
      "File \u001B[0;32m/mnt/c/Users/bejo2361/PycharmProjects/IA-MED_IMG/CheXpert2/dataloaders/CXRLoader.py:254\u001B[0m, in \u001B[0;36mCXRLoader.__getitem__\u001B[0;34m(self, idx)\u001B[0m\n\u001B[1;32m    252\u001B[0m \u001B[38;5;28;01mdef\u001B[39;00m \u001B[38;5;21m__getitem__\u001B[39m(\u001B[38;5;28mself\u001B[39m, idx) :\n\u001B[0;32m--> 254\u001B[0m     images\u001B[38;5;241m=\u001B[39m \u001B[38;5;28;43mself\u001B[39;49m\u001B[38;5;241;43m.\u001B[39;49m\u001B[43mread_img\u001B[49m\u001B[43m(\u001B[49m\u001B[43midx\u001B[49m\u001B[43m)\u001B[49m\n\u001B[1;32m    255\u001B[0m     label \u001B[38;5;241m=\u001B[39m \u001B[38;5;28mself\u001B[39m\u001B[38;5;241m.\u001B[39mget_label(idx)\n\u001B[1;32m    257\u001B[0m     \u001B[38;5;28;01mif\u001B[39;00m \u001B[38;5;28mself\u001B[39m\u001B[38;5;241m.\u001B[39msplit \u001B[38;5;241m==\u001B[39m \u001B[38;5;124m\"\u001B[39m\u001B[38;5;124mTrain\u001B[39m\u001B[38;5;124m\"\u001B[39m :\n",
      "File \u001B[0;32m/mnt/c/Users/bejo2361/PycharmProjects/IA-MED_IMG/CheXpert2/dataloaders/CXRLoader.py:94\u001B[0m, in \u001B[0;36mCXRLoader.__init__.<locals>.<lambda>\u001B[0;34m(idx)\u001B[0m\n\u001B[1;32m     91\u001B[0m \u001B[38;5;28mself\u001B[39m\u001B[38;5;241m.\u001B[39mfiles[\u001B[38;5;124m\"\u001B[39m\u001B[38;5;124mPath\u001B[39m\u001B[38;5;124m\"\u001B[39m]\u001B[38;5;241m=\u001B[39mpaths\n\u001B[1;32m     92\u001B[0m \u001B[38;5;28mself\u001B[39m\u001B[38;5;241m.\u001B[39mfiles[\u001B[38;5;124m\"\u001B[39m\u001B[38;5;124mFrontal/Lateral\u001B[39m\u001B[38;5;124m\"\u001B[39m]\u001B[38;5;241m=\u001B[39mfrontal_lateral\n\u001B[0;32m---> 94\u001B[0m \u001B[38;5;28mself\u001B[39m\u001B[38;5;241m.\u001B[39mread_img \u001B[38;5;241m=\u001B[39m \u001B[38;5;28;01mlambda\u001B[39;00m idx : \u001B[38;5;28;43mself\u001B[39;49m\u001B[38;5;241;43m.\u001B[39;49m\u001B[43mread_img_from_disk\u001B[49m\u001B[43m(\u001B[49m\u001B[43mpaths\u001B[49m\u001B[38;5;241;43m=\u001B[39;49m\u001B[38;5;28;43mself\u001B[39;49m\u001B[38;5;241;43m.\u001B[39;49m\u001B[43mfiles\u001B[49m\u001B[38;5;241;43m.\u001B[39;49m\u001B[43miloc\u001B[49m\u001B[43m[\u001B[49m\u001B[43midx\u001B[49m\u001B[43m]\u001B[49m\u001B[43m[\u001B[49m\u001B[38;5;124;43m'\u001B[39;49m\u001B[38;5;124;43mPath\u001B[39;49m\u001B[38;5;124;43m'\u001B[39;49m\u001B[43m]\u001B[49m\u001B[43m,\u001B[49m\u001B[43mviews\u001B[49m\u001B[38;5;241;43m=\u001B[39;49m\u001B[38;5;28;43mself\u001B[39;49m\u001B[38;5;241;43m.\u001B[39;49m\u001B[43mfiles\u001B[49m\u001B[38;5;241;43m.\u001B[39;49m\u001B[43miloc\u001B[49m\u001B[43m[\u001B[49m\u001B[43midx\u001B[49m\u001B[43m]\u001B[49m\u001B[43m[\u001B[49m\u001B[38;5;124;43m'\u001B[39;49m\u001B[38;5;124;43mFrontal/Lateral\u001B[39;49m\u001B[38;5;124;43m'\u001B[39;49m\u001B[43m]\u001B[49m\u001B[43m)\u001B[49m\n\u001B[1;32m     97\u001B[0m \u001B[38;5;28;01mif\u001B[39;00m split \u001B[38;5;241m==\u001B[39m \u001B[38;5;124m\"\u001B[39m\u001B[38;5;124mTrain\u001B[39m\u001B[38;5;124m\"\u001B[39m :\n\u001B[1;32m     98\u001B[0m     \u001B[38;5;28mself\u001B[39m\u001B[38;5;241m.\u001B[39mweights \u001B[38;5;241m=\u001B[39m weights\n",
      "File \u001B[0;32m/mnt/c/Users/bejo2361/PycharmProjects/IA-MED_IMG/CheXpert2/dataloaders/CXRLoader.py:245\u001B[0m, in \u001B[0;36mCXRLoader.read_img_from_disk\u001B[0;34m(self, paths, views)\u001B[0m\n\u001B[1;32m    243\u001B[0m images\u001B[38;5;241m=\u001B[39mnp\u001B[38;5;241m.\u001B[39mzeros((\u001B[38;5;241m2\u001B[39m,\u001B[38;5;28mself\u001B[39m\u001B[38;5;241m.\u001B[39mimg_size,\u001B[38;5;28mself\u001B[39m\u001B[38;5;241m.\u001B[39mimg_size),dtype\u001B[38;5;241m=\u001B[39mnp\u001B[38;5;241m.\u001B[39muint8)\n\u001B[1;32m    244\u001B[0m \u001B[38;5;28;01mfor\u001B[39;00m i,path \u001B[38;5;129;01min\u001B[39;00m \u001B[38;5;28menumerate\u001B[39m(np\u001B[38;5;241m.\u001B[39mrandom\u001B[38;5;241m.\u001B[39mpermutation(paths)) :\n\u001B[0;32m--> 245\u001B[0m     images[i,:,:]\u001B[38;5;241m=\u001B[39m\u001B[43mcv\u001B[49m\u001B[38;5;241;43m.\u001B[39;49m\u001B[43mresize\u001B[49m\u001B[43m(\u001B[49m\u001B[43mcv\u001B[49m\u001B[38;5;241;43m.\u001B[39;49m\u001B[43mimread\u001B[49m\u001B[43m(\u001B[49m\u001B[38;5;124;43mf\u001B[39;49m\u001B[38;5;124;43m\"\u001B[39;49m\u001B[38;5;132;43;01m{\u001B[39;49;00m\u001B[38;5;28;43mself\u001B[39;49m\u001B[38;5;241;43m.\u001B[39;49m\u001B[43mimg_dir\u001B[49m\u001B[38;5;132;43;01m}\u001B[39;49;00m\u001B[38;5;132;43;01m{\u001B[39;49;00m\u001B[43mpath\u001B[49m\u001B[38;5;132;43;01m}\u001B[39;49;00m\u001B[38;5;124;43m\"\u001B[39;49m\u001B[43m,\u001B[49m\u001B[43m \u001B[49m\u001B[43mcv\u001B[49m\u001B[38;5;241;43m.\u001B[39;49m\u001B[43mIMREAD_GRAYSCALE\u001B[49m\u001B[43m)\u001B[49m\u001B[43m,\u001B[49m\u001B[43m(\u001B[49m\u001B[38;5;28;43mself\u001B[39;49m\u001B[38;5;241;43m.\u001B[39;49m\u001B[43mimg_size\u001B[49m\u001B[43m,\u001B[49m\u001B[38;5;28;43mself\u001B[39;49m\u001B[38;5;241;43m.\u001B[39;49m\u001B[43mimg_size\u001B[49m\u001B[43m)\u001B[49m\u001B[43m)\u001B[49m\n\u001B[1;32m    246\u001B[0m     \u001B[38;5;28;01mif\u001B[39;00m i\u001B[38;5;241m==\u001B[39m\u001B[38;5;241m1\u001B[39m :\n\u001B[1;32m    247\u001B[0m         \u001B[38;5;28;01mbreak\u001B[39;00m\n",
      "\u001B[0;31merror\u001B[0m: OpenCV(4.6.0) /io/opencv/modules/imgproc/src/resize.cpp:4052: error: (-215:Assertion failed) !ssize.empty() in function 'resize'\n"
     ]
    }
   ],
   "source": [
    "images,label,idx = dataset[i]\n",
    "print(images.shape)\n",
    "frontal,lateral =   images[0,:,:].numpy().astype(np.uint8),images[1,:,:].numpy().astype(np.uint8)\n",
    "#frontal,lateral = cv2.cvtColor(frontal[:,:,None],cv2.COLOR_GRAY2RGB),cv2.cvtColor(lateral[:,:,None],cv2.COLOR_GRAY2RGB)\n",
    "print(np.max(frontal))\n",
    "print(np.max(lateral))\n",
    "frontal_image = Image.fromarray(frontal)\n",
    "lateral_image = Image.fromarray(lateral)\n",
    "frontal_image.show()\n",
    "lateral_image.show()\n",
    "i+=1"
   ]
  },
  {
   "cell_type": "code",
   "execution_count": null,
   "metadata": {},
   "outputs": [],
   "source": []
  },
  {
   "cell_type": "code",
   "execution_count": 41,
   "metadata": {},
   "outputs": [
    {
     "name": "stdout",
     "output_type": "stream",
     "text": [
      "            Opacity          Air        Liquid  Cardiomegaly  Lung Lesion  \\\n",
      "Ratio      0.235656     0.034475      0.174541      0.079604     0.015898   \n",
      "Count  42469.000000  6213.000000  31455.000000  14346.000000  2865.000000   \n",
      "\n",
      "         Emphysema        Edema  Consolidation   Atelectasis  Pneumothorax  \\\n",
      "Ratio     0.014693     0.009844        0.01734      0.115672       0.01102   \n",
      "Count  2648.000000  1774.000000     3125.00000  20846.000000    1986.00000   \n",
      "\n",
      "       Pleural Effusion     Fracture       Hernia  Infiltration         Mass  \\\n",
      "Ratio          0.118264     0.015298     0.011447      0.064306     0.015875   \n",
      "Count      21313.000000  2757.000000  2063.000000  11589.000000  2861.000000   \n",
      "\n",
      "            Nodule  Pneumo other   No Finding  \n",
      "Ratio     0.016092      0.004339      0.45774  \n",
      "Count  2900.000000    782.000000  82492.00000  \n"
     ]
    }
   ],
   "source": [
    "data = np.concatenate([dataset.count.reshape((1,18)),dataset.count.reshape((1,18))*len(dataset)])\n",
    "data = pd.DataFrame(data,columns=names,index=[\"Ratio\",\"Count\"])\n",
    "print(data)"
   ]
  }
 ],
 "metadata": {
  "kernelspec": {
   "display_name": "Python 3 (ipykernel)",
   "language": "python",
   "name": "python3"
  },
  "language_info": {
   "codemirror_mode": {
    "name": "ipython",
    "version": 3
   },
   "file_extension": ".py",
   "mimetype": "text/x-python",
   "name": "python",
   "nbconvert_exporter": "python",
   "pygments_lexer": "ipython3",
   "version": "3.9.14"
  }
 },
 "nbformat": 4,
 "nbformat_minor": 1
}
