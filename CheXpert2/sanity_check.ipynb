{
 "cells": [
  {
   "cell_type": "code",
   "execution_count": 1,
   "metadata": {},
   "outputs": [],
   "source": [
    "import os\n",
    "\n",
    "import pandas as pd\n",
    "\n",
    "%matplotlib inline\n",
    "from CheXpert2 import names\n",
    "import cv2\n",
    "from CheXpert2.dataloaders.CXRLoader import CXRLoader\n",
    "import matplotlib.pyplot as plt\n",
    "import numpy as np\n",
    "from PIL import Image"
   ]
  },
  {
   "cell_type": "markdown",
   "source": [
    "# Step 1 : Initiating the dataset\n",
    "\n",
    "Since we don't train the model, we only need one dataset"
   ],
   "metadata": {
    "collapsed": false
   }
  },
  {
   "cell_type": "code",
   "execution_count": 2,
   "metadata": {},
   "outputs": [
    {
     "name": "stderr",
     "output_type": "stream",
     "text": [
      "C:\\Users\\joeda\\PycharmProjects\\IA-MED_IMG\\CheXpert2\\dataloaders\\CXRLoader.py:177: FutureWarning: The default value of numeric_only in DataFrameGroupBy.mean is deprecated. In a future version, numeric_only will default to False. Either specify numeric_only or select only columns which should be valid for the function.\n",
      "  data=data.groupby(\"Exam ID\").mean().round(0)\n"
     ]
    }
   ],
   "source": [
    "img_dir=\"\"\n",
    "os.environ[\"DEBUG\"]=\"False\"\n",
    "dataset = CXRLoader(\n",
    "            split=\"Test\",\n",
    "            img_dir=img_dir,\n",
    "            img_size=224,\n",
    "            prob=[0,0,0,0,0,0],\n",
    "            intensity=0,\n",
    "            label_smoothing=0,\n",
    "            channels=1,\n",
    "            use_frontal=False,\n",
    "            datasets=[\"CIUSSS\"]\n",
    "        )\n",
    "i=0"
   ]
  },
  {
   "cell_type": "markdown",
   "source": [
    "# Step 2 : Assert the dataloader is working ; Require the images on the device"
   ],
   "metadata": {
    "collapsed": false
   }
  },
  {
   "cell_type": "code",
   "execution_count": 3,
   "metadata": {},
   "outputs": [
    {
     "ename": "AssertionError",
     "evalue": "The provided path /data/public_data/Images_CIUSSS/1023733080099543/1023733080099543_view0001.jpg does not exists!",
     "output_type": "error",
     "traceback": [
      "\u001B[1;31m---------------------------------------------------------------------------\u001B[0m",
      "\u001B[1;31mAssertionError\u001B[0m                            Traceback (most recent call last)",
      "Cell \u001B[1;32mIn [3], line 3\u001B[0m\n\u001B[0;32m      1\u001B[0m \u001B[38;5;28;01mimport\u001B[39;00m \u001B[38;5;21;01mtime\u001B[39;00m\n\u001B[0;32m      2\u001B[0m \u001B[38;5;28;01mfor\u001B[39;00m i \u001B[38;5;129;01min\u001B[39;00m \u001B[38;5;28mrange\u001B[39m(\u001B[38;5;241m0\u001B[39m,\u001B[38;5;241m10\u001B[39m) :\n\u001B[1;32m----> 3\u001B[0m     images,label,idx \u001B[38;5;241m=\u001B[39m \u001B[43mdataset\u001B[49m\u001B[43m[\u001B[49m\u001B[43mi\u001B[49m\u001B[43m]\u001B[49m\n\u001B[0;32m      4\u001B[0m     \u001B[38;5;28mprint\u001B[39m(images\u001B[38;5;241m.\u001B[39mshape)\n\u001B[0;32m      5\u001B[0m     frontal,lateral \u001B[38;5;241m=\u001B[39m   images[\u001B[38;5;241m0\u001B[39m,:,:]\u001B[38;5;241m.\u001B[39mnumpy()\u001B[38;5;241m.\u001B[39mastype(np\u001B[38;5;241m.\u001B[39muint8),images[\u001B[38;5;241m1\u001B[39m,:,:]\u001B[38;5;241m.\u001B[39mnumpy()\u001B[38;5;241m.\u001B[39mastype(np\u001B[38;5;241m.\u001B[39muint8)\n",
      "File \u001B[1;32m~\\PycharmProjects\\IA-MED_IMG\\CheXpert2\\dataloaders\\CXRLoader.py:225\u001B[0m, in \u001B[0;36mCXRLoader.__getitem__\u001B[1;34m(self, idx)\u001B[0m\n\u001B[0;32m    223\u001B[0m \u001B[38;5;28;01mdef\u001B[39;00m \u001B[38;5;21m__getitem__\u001B[39m(\u001B[38;5;28mself\u001B[39m, idx) :\n\u001B[1;32m--> 225\u001B[0m     images\u001B[38;5;241m=\u001B[39m \u001B[38;5;28;43mself\u001B[39;49m\u001B[38;5;241;43m.\u001B[39;49m\u001B[43mread_img\u001B[49m\u001B[43m(\u001B[49m\u001B[43midx\u001B[49m\u001B[43m)\u001B[49m\n\u001B[0;32m    226\u001B[0m     label \u001B[38;5;241m=\u001B[39m \u001B[38;5;28mself\u001B[39m\u001B[38;5;241m.\u001B[39mget_label(idx)\n\u001B[0;32m    228\u001B[0m     \u001B[38;5;28;01mif\u001B[39;00m \u001B[38;5;28mself\u001B[39m\u001B[38;5;241m.\u001B[39msplit \u001B[38;5;241m==\u001B[39m \u001B[38;5;124m\"\u001B[39m\u001B[38;5;124mTrain\u001B[39m\u001B[38;5;124m\"\u001B[39m :\n",
      "File \u001B[1;32m~\\PycharmProjects\\IA-MED_IMG\\CheXpert2\\dataloaders\\CXRLoader.py:93\u001B[0m, in \u001B[0;36mCXRLoader.__init__.<locals>.<lambda>\u001B[1;34m(idx)\u001B[0m\n\u001B[0;32m     90\u001B[0m \u001B[38;5;28mself\u001B[39m\u001B[38;5;241m.\u001B[39mfiles[\u001B[38;5;124m\"\u001B[39m\u001B[38;5;124mPath\u001B[39m\u001B[38;5;124m\"\u001B[39m]\u001B[38;5;241m=\u001B[39mpaths\n\u001B[0;32m     91\u001B[0m \u001B[38;5;28mself\u001B[39m\u001B[38;5;241m.\u001B[39mfiles[\u001B[38;5;124m\"\u001B[39m\u001B[38;5;124mFrontal/Lateral\u001B[39m\u001B[38;5;124m\"\u001B[39m]\u001B[38;5;241m=\u001B[39mfrontal_lateral\n\u001B[1;32m---> 93\u001B[0m \u001B[38;5;28mself\u001B[39m\u001B[38;5;241m.\u001B[39mread_img \u001B[38;5;241m=\u001B[39m \u001B[38;5;28;01mlambda\u001B[39;00m idx : \u001B[38;5;28;43mself\u001B[39;49m\u001B[38;5;241;43m.\u001B[39;49m\u001B[43mread_img_from_disk\u001B[49m\u001B[43m(\u001B[49m\u001B[43mpaths\u001B[49m\u001B[38;5;241;43m=\u001B[39;49m\u001B[38;5;28;43mself\u001B[39;49m\u001B[38;5;241;43m.\u001B[39;49m\u001B[43mfiles\u001B[49m\u001B[38;5;241;43m.\u001B[39;49m\u001B[43miloc\u001B[49m\u001B[43m[\u001B[49m\u001B[43midx\u001B[49m\u001B[43m]\u001B[49m\u001B[43m[\u001B[49m\u001B[38;5;124;43m'\u001B[39;49m\u001B[38;5;124;43mPath\u001B[39;49m\u001B[38;5;124;43m'\u001B[39;49m\u001B[43m]\u001B[49m\u001B[43m,\u001B[49m\u001B[43mviews\u001B[49m\u001B[38;5;241;43m=\u001B[39;49m\u001B[38;5;28;43mself\u001B[39;49m\u001B[38;5;241;43m.\u001B[39;49m\u001B[43mfiles\u001B[49m\u001B[38;5;241;43m.\u001B[39;49m\u001B[43miloc\u001B[49m\u001B[43m[\u001B[49m\u001B[43midx\u001B[49m\u001B[43m]\u001B[49m\u001B[43m[\u001B[49m\u001B[38;5;124;43m'\u001B[39;49m\u001B[38;5;124;43mFrontal/Lateral\u001B[39;49m\u001B[38;5;124;43m'\u001B[39;49m\u001B[43m]\u001B[49m\u001B[43m)\u001B[49m\n\u001B[0;32m     97\u001B[0m \u001B[38;5;28mself\u001B[39m\u001B[38;5;241m.\u001B[39mweights \u001B[38;5;241m=\u001B[39m \u001B[38;5;28mself\u001B[39m\u001B[38;5;241m.\u001B[39msamples_weights()\n\u001B[0;32m    100\u001B[0m \u001B[38;5;28mself\u001B[39m\u001B[38;5;241m.\u001B[39mfiles\u001B[38;5;241m.\u001B[39mreset_index(inplace\u001B[38;5;241m=\u001B[39m\u001B[38;5;28;01mTrue\u001B[39;00m)\n",
      "File \u001B[1;32m~\\PycharmProjects\\IA-MED_IMG\\CheXpert2\\dataloaders\\CXRLoader.py:216\u001B[0m, in \u001B[0;36mCXRLoader.read_img_from_disk\u001B[1;34m(self, paths, views)\u001B[0m\n\u001B[0;32m    214\u001B[0m images\u001B[38;5;241m=\u001B[39mnp\u001B[38;5;241m.\u001B[39mzeros((\u001B[38;5;241m2\u001B[39m,\u001B[38;5;28mself\u001B[39m\u001B[38;5;241m.\u001B[39mimg_size,\u001B[38;5;28mself\u001B[39m\u001B[38;5;241m.\u001B[39mimg_size),dtype\u001B[38;5;241m=\u001B[39mnp\u001B[38;5;241m.\u001B[39muint8)\n\u001B[0;32m    215\u001B[0m \u001B[38;5;28;01mfor\u001B[39;00m i,path \u001B[38;5;129;01min\u001B[39;00m \u001B[38;5;28menumerate\u001B[39m(np\u001B[38;5;241m.\u001B[39mrandom\u001B[38;5;241m.\u001B[39mpermutation(paths)) :\n\u001B[1;32m--> 216\u001B[0m     \u001B[38;5;28;01massert\u001B[39;00m os\u001B[38;5;241m.\u001B[39mpath\u001B[38;5;241m.\u001B[39mexists(\u001B[38;5;124mf\u001B[39m\u001B[38;5;124m\"\u001B[39m\u001B[38;5;132;01m{\u001B[39;00m\u001B[38;5;28mself\u001B[39m\u001B[38;5;241m.\u001B[39mimg_dir\u001B[38;5;132;01m}\u001B[39;00m\u001B[38;5;132;01m{\u001B[39;00mpath\u001B[38;5;132;01m}\u001B[39;00m\u001B[38;5;124m\"\u001B[39m), \u001B[38;5;124mf\u001B[39m\u001B[38;5;124m\"\u001B[39m\u001B[38;5;124mThe provided path \u001B[39m\u001B[38;5;132;01m{\u001B[39;00m\u001B[38;5;28mself\u001B[39m\u001B[38;5;241m.\u001B[39mimg_dir\u001B[38;5;132;01m}\u001B[39;00m\u001B[38;5;132;01m{\u001B[39;00mpath\u001B[38;5;132;01m}\u001B[39;00m\u001B[38;5;124m does not exists!\u001B[39m\u001B[38;5;124m\"\u001B[39m\n\u001B[0;32m    217\u001B[0m     images[i,:,:]\u001B[38;5;241m=\u001B[39mcv\u001B[38;5;241m.\u001B[39mresize(cv\u001B[38;5;241m.\u001B[39mimread(\u001B[38;5;124mf\u001B[39m\u001B[38;5;124m\"\u001B[39m\u001B[38;5;132;01m{\u001B[39;00m\u001B[38;5;28mself\u001B[39m\u001B[38;5;241m.\u001B[39mimg_dir\u001B[38;5;132;01m}\u001B[39;00m\u001B[38;5;132;01m{\u001B[39;00mpath\u001B[38;5;132;01m}\u001B[39;00m\u001B[38;5;124m\"\u001B[39m, cv\u001B[38;5;241m.\u001B[39mIMREAD_GRAYSCALE),(\u001B[38;5;28mself\u001B[39m\u001B[38;5;241m.\u001B[39mimg_size,\u001B[38;5;28mself\u001B[39m\u001B[38;5;241m.\u001B[39mimg_size))\n\u001B[0;32m    218\u001B[0m     \u001B[38;5;28;01mif\u001B[39;00m i\u001B[38;5;241m==\u001B[39m\u001B[38;5;241m1\u001B[39m :\n",
      "\u001B[1;31mAssertionError\u001B[0m: The provided path /data/public_data/Images_CIUSSS/1023733080099543/1023733080099543_view0001.jpg does not exists!"
     ]
    }
   ],
   "source": [
    "import time\n",
    "for i in range(0,10) :\n",
    "    images,label,idx = dataset[i]\n",
    "    print(images.shape)\n",
    "    frontal,lateral =   images[0,:,:].numpy().astype(np.uint8),images[1,:,:].numpy().astype(np.uint8)\n",
    "    #frontal,lateral = cv2.cvtColor(frontal[:,:,None],cv2.COLOR_GRAY2RGB),cv2.cvtColor(lateral[:,:,None],cv2.COLOR_GRAY2RGB)\n",
    "    print(np.max(frontal))\n",
    "    print(np.max(lateral))\n",
    "    frontal_image = Image.fromarray(frontal)\n",
    "    lateral_image = Image.fromarray(lateral)\n",
    "    frontal_image.show()\n",
    "    lateral_image.show()\n"
   ]
  },
  {
   "cell_type": "markdown",
   "source": [
    "# Step 2.2 : We can test the data augmentations !"
   ],
   "metadata": {
    "collapsed": false
   }
  },
  {
   "cell_type": "code",
   "execution_count": null,
   "outputs": [],
   "source": [
    "import albumentations as A\n",
    "import cv2 as cv\n",
    "#image  = A.augmentations.geometric.transforms.Affine(scale=(0.95,1.05),translate_percent=(0.05,0.05),rotate=(-15,15),shear=None,cval=0,keep_ratio=True,p=1)(image=np.array(frontal_image)[:,:,None])[\"image\"]\n",
    "\n",
    "# image  = A.augmentations.transforms.ColorJitter(brightness=0.4, contrast=0.4, saturation=0.4, always_apply=False,p=1)(image=np.array(frontal_image)[:,:,None])[\"image\"]\n",
    "\n",
    "image = A.GridDistortion(num_steps=1,distort_limit=0.3,interpolation=1,border_mode=0,value=None,mask_value=None,always_apply=False,p=1)(image=np.array(frontal_image)[:,:,None])[\"image\"]\n",
    "\n",
    "# image = A.ElasticTransform(alpha=0.2, sigma=25, alpha_affine=50, interpolation=1, value=None,p=1, border_mode=cv.BORDER_CONSTANT)(image=np.array(frontal_image)[:,:,None])[\"image\"]\n",
    "\n",
    "image = Image.fromarray(image.squeeze())\n",
    "\n",
    "image.show()"
   ],
   "metadata": {
    "collapsed": false
   }
  },
  {
   "cell_type": "markdown",
   "source": [
    "# Step 3 : Let's now plot some information about the dataset"
   ],
   "metadata": {
    "collapsed": false
   }
  },
  {
   "cell_type": "code",
   "execution_count": null,
   "outputs": [],
   "source": [
    "\n",
    "data = np.concatenate([dataset.count.reshape((1,18)),dataset.count.reshape((1,18))/len(dataset)])\n",
    "data = pd.DataFrame(data,columns=names,index=[\"Count\",\"Ratio\"])\n",
    "print(data)\n"
   ],
   "metadata": {
    "collapsed": false
   }
  },
  {
   "cell_type": "code",
   "execution_count": null,
   "outputs": [],
   "source": [
    "plt.bar(x=range(0,len(names)),height=dataset.count,label=names)\n",
    "plt.show()"
   ],
   "metadata": {
    "collapsed": false
   }
  },
  {
   "cell_type": "markdown",
   "source": [
    "# Let's now verify the dataloader ; does it extract the classes as we want to?"
   ],
   "metadata": {
    "collapsed": false
   }
  },
  {
   "cell_type": "code",
   "execution_count": null,
   "outputs": [],
   "source": [
    "import torch\n",
    "%matplotlib inline\n",
    "second_image_count=0\n",
    "\n",
    "\n",
    "labels=torch.zeros((len(names)))\n",
    "\n",
    "for image,label,idx in dataset :\n",
    "    if torch.max(image[1])==0 :\n",
    "        second_image_count+=1\n",
    "\n",
    "    labels+=label\n",
    "\n",
    "print(\"The ratio of images with a second image : \", second_image_count/len(dataset))\n",
    "plt.bar(x=range(0,len(names)),height=labels,label=names)\n",
    "plt.show()"
   ],
   "metadata": {
    "collapsed": false
   }
  },
  {
   "cell_type": "code",
   "execution_count": null,
   "outputs": [],
   "source": [],
   "metadata": {
    "collapsed": false
   }
  }
 ],
 "metadata": {
  "kernelspec": {
   "display_name": "Python 3 (ipykernel)",
   "language": "python",
   "name": "python3"
  },
  "language_info": {
   "codemirror_mode": {
    "name": "ipython",
    "version": 3
   },
   "file_extension": ".py",
   "mimetype": "text/x-python",
   "name": "python",
   "nbconvert_exporter": "python",
   "pygments_lexer": "ipython3",
   "version": "3.9.14"
  }
 },
 "nbformat": 4,
 "nbformat_minor": 1
}
