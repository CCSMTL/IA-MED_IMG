{
 "cells": [
  {
   "cell_type": "code",
   "execution_count": 1,
   "metadata": {
    "collapsed": true
   },
   "outputs": [],
   "source": [
    "import pandas as pd\n",
    "#import from pypi\n",
    "import tqdm\n",
    "import torch\n",
    "import warnings\n",
    "import os\n",
    "import pandas as pd\n",
    "import numpy as np\n",
    "import matplotlib.pyplot as plt"
   ]
  },
  {
   "cell_type": "code",
   "execution_count": 7,
   "metadata": {},
   "outputs": [],
   "source": [
    "#local import\n",
    "from CheXpert2.models.CNN import CNN\n",
    "from CheXpert2.Metrics import Metrics\n",
    "from CheXpert2.dataloaders.CXRLoader import CXRLoader\n",
    "from CheXpert2 import names"
   ]
  },
  {
   "cell_type": "code",
   "execution_count": 8,
   "metadata": {},
   "outputs": [],
   "source": [
    "def load_model() :\n",
    "    if torch.cuda.is_available():\n",
    "        device = \"cuda:0\"\n",
    "    else:\n",
    "        device = \"cpu\"\n",
    "        warnings.warn(\"No gpu is available for the computation\")\n",
    "    models = [\n",
    "        CNN(\"convnext_large_384_in22ft1k\", img_size=384, channels=3, num_classes=18, pretrained=False,\n",
    "            pretraining=False),\n",
    "        #    CNN(\"convnext_base\", img_size=384, channels=1, num_classes=14, pretrained=False, pretraining=False),\n",
    "        #    CNN(\"densenet201\", img_size=384, channels=1, num_classes=14, pretrained=False, pretraining=False),\n",
    "        #    CNN(\"densenet201\", img_size=384, channels=1, num_classes=14, pretrained=False, pretraining=False),\n",
    "    ]\n",
    "    # model =  torch.nn.parallel.DistributedDataParallel(model)\n",
    "\n",
    "    # api = wandb.Api()\n",
    "    # run = api.run(f\"ccsmtl2/Chestxray/{args.run_id}\")\n",
    "    # run.file(\"models_weights/convnext_base/DistributedDataParallel.pt\").download(replace=True)\n",
    "    weights = [\n",
    "        \"/mnt/f/IA-med_img/data/model_weights/wobbly_leaf.pt\",\n",
    "        #    \"/data/home/jonathan/IA-MED_IMG/models_weights/convnext_base_2.pt\",\n",
    "        #    \"/data/home/jonathan/IA-MED_IMG/models_weights/densenet201.pt\",\n",
    "        #    \"/data/home/jonathan/IA-MED_IMG/models_weights/densenet201_2.pt\",\n",
    "    ]\n",
    "\n",
    "    for model, weight in zip(models, weights):\n",
    "        state_dict = torch.load(weight, map_location=torch.device(device))\n",
    "\n",
    "        # from collections import OrderedDict\n",
    "        # new_state_dict = OrderedDict()\n",
    "        # for k, v in state_dict.items():\n",
    "        #     name = k[7:]  # remove 'module.' of DataParallel/DistributedDataParallel\n",
    "        #     new_state_dict[name] = v\n",
    "\n",
    "        # model.load_state_dict(new_state_dict)\n",
    "        model.load_state_dict(state_dict)\n",
    "        # model = model.to(device)\n",
    "        model.eval()\n",
    "        model = model.to(device)\n",
    "        return model"
   ]
  },
  {
   "cell_type": "code",
   "execution_count": 9,
   "metadata": {},
   "outputs": [],
   "source": [
    "@torch.no_grad()\n",
    "def infer_loop(model, loader, criterion, device):\n",
    "    \"\"\"\n",
    "\n",
    "    :param model: model to evaluate\n",
    "    :param loader: dataset loader\n",
    "    :param criterion: criterion to evaluate the loss\n",
    "    :param device: device to do the computation on\n",
    "    :return: val_loss for the N epoch, tensor of concatenated labels and predictions\n",
    "    \"\"\"\n",
    "    running_loss = 0\n",
    "    results = [torch.tensor([]), torch.tensor([])]\n",
    "\n",
    "    for inputs, labels,idx in tqdm.tqdm(loader):\n",
    "        # get the inputs; data is a list of [inputs, labels]\n",
    "\n",
    "        inputs, labels = (\n",
    "            inputs.to(device, non_blocking=True),\n",
    "            labels.to(device, non_blocking=True),\n",
    "        )\n",
    "        #inputs,labels = loader.dataset.advanced_transform((inputs, labels))\n",
    "        # forward + backward + optimize\n",
    "\n",
    "        outputs = model(inputs)\n",
    "        loss = criterion(outputs, labels)\n",
    "        outputs = torch.sigmoid(outputs)\n",
    "        running_loss += loss.detach()\n",
    "\n",
    "        if inputs.shape != labels.shape:  # prevent storing images if training unets\n",
    "            results[1] = torch.cat(\n",
    "                (results[1], outputs.detach().cpu()), dim=0\n",
    "            )\n",
    "            results[0] = torch.cat((results[0], labels.cpu()), dim=0)\n",
    "\n",
    "        del (\n",
    "            inputs,\n",
    "            labels,\n",
    "            outputs,\n",
    "            loss,\n",
    "        )  # garbage management sometimes fails with cuda\n",
    "\n",
    "\n",
    "    return running_loss, results\n"
   ]
  },
  {
   "cell_type": "code",
   "execution_count": 10,
   "metadata": {},
   "outputs": [
    {
     "name": "stderr",
     "output_type": "stream",
     "text": [
      "/mnt/f/IA-med_img/CheXpert2/dataloaders/CXRLoader.py:175: FutureWarning: The default value of numeric_only in DataFrameGroupBy.mean is deprecated. In a future version, numeric_only will default to False. Either specify numeric_only or select only columns which should be valid for the function.\n",
      "  data=data.groupby(\"Exam ID\").mean().round(0)\n",
      "WARNING:root:Careful! The category Emphysema has 0 images!\n",
      "WARNING:root:Careful! The category Fracture has 0 images!\n",
      "WARNING:root:Careful! The category Hernia has 0 images!\n",
      "WARNING:root:Careful! The category Infiltration has 0 images!\n",
      "WARNING:root:Careful! The category Mass has 0 images!\n",
      "WARNING:root:Careful! The category Nodule has 0 images!\n"
     ]
    }
   ],
   "source": [
    "criterion = torch.nn.BCEWithLogitsLoss()\n",
    "if torch.cuda.is_available():\n",
    "    device = \"cuda:0\"\n",
    "else:\n",
    "    device = \"cpu\"\n",
    "    warnings.warn(\"No gpu is available for the computation\")\n",
    "\n",
    "# ----- parsing arguments --------------------------------------\n",
    "\n",
    "\n",
    "#start = torch.cuda.Event(enable_timing=True)\n",
    "#end = torch.cuda.Event(enable_timing=True)\n",
    "# ------loading test set --------------------------------------\n",
    "#img_dir = os.environ[\"img_dir\"]\n",
    "img_dir = \"/mnt/f/IA-MED_IMG\"\n",
    "os.environ[\"DEBUG\"]=\"True\"\n",
    "test_dataset = CXRLoader(\"Valid\",img_dir, img_size=384,channels=3,datasets=[\"ChexPert\"])\n",
    "\n",
    "test_loader = torch.utils.data.DataLoader(\n",
    "    test_dataset,\n",
    "    batch_size=1,\n",
    "    shuffle=False,\n",
    "    num_workers=8,\n",
    "    pin_memory=True,\n",
    ")\n",
    "# ----------------loading model -------------------------------\n",
    "\n",
    "model=load_model()\n",
    "i=0"
   ]
  },
  {
   "cell_type": "code",
   "execution_count": 11,
   "metadata": {},
   "outputs": [
    {
     "name": "stderr",
     "output_type": "stream",
     "text": [
      "100%|██████████| 200/200 [00:42<00:00,  4.68it/s]"
     ]
    },
    {
     "name": "stdout",
     "output_type": "stream",
     "text": [
      "42.714163064956665\n",
      "{'auc': {'Opacity': 0.7357609710550886, 'Air': 0.7905255366395263, 'Liquid': 0.841012198810364, 'Cardiomegaly': 0.6755992763455451, 'Lung Lesion': 0.7035175879396984, 'Emphysema': 0, 'Edema': 0.8518685955394815, 'Consolidation': 0.8790922619047619, 'Atelectasis': 0.7374933333333333, 'Pneumothorax': 0.7302405498281787, 'Pleural Effusion': 0.8411075367647058, 'Fracture': 0, 'Hernia': 0, 'Infiltration': 0, 'Mass': 0, 'Nodule': 0, 'Pleural Other': 0.7688442211055276, 'No Finding': 0.845711759504863, 'mean': 0.5222652127095041}, 'f1': {'Opacity': 0.6130268199233716, 'Air': 0.1263157894736842, 'Liquid': 0.7339449541284404, 'Cardiomegaly': 0.5023696682464455, 'Lung Lesion': 0.012269938650306747, 'Emphysema': 0.0, 'Edema': 0.4338624338624338, 'Consolidation': 0.2990654205607477, 'Atelectasis': 0.6083333333333334, 'Pneumothorax': 0.09523809523809525, 'Pleural Effusion': 0.64, 'Fracture': 0.0, 'Hernia': 0.0, 'Infiltration': 0.0, 'Mass': 0.0, 'Nodule': 0.0, 'Pleural Other': 0.0, 'No Finding': 0.9304812834224598, 'mean': 0.45408252153084716}, 'recall': {'Opacity': 0.9876543209876543, 'Air': 0.8571428571428571, 'Liquid': 0.8791208791208791, 'Cardiomegaly': 0.803030303030303, 'Lung Lesion': 1.0, 'Emphysema': 0.0, 'Edema': 0.9761904761904762, 'Consolidation': 1.0, 'Atelectasis': 0.9733333333333334, 'Pneumothorax': 0.8333333333333334, 'Pleural Effusion': 0.625, 'Fracture': 0.0, 'Hernia': 0.0, 'Infiltration': 0.0, 'Mass': 0.0, 'Nodule': 0.0, 'Pleural Other': 0.0, 'No Finding': 1.0}, 'precision': {'Opacity': 0.4444444444444444, 'Air': 0.06818181818181818, 'Liquid': 0.6299212598425197, 'Cardiomegaly': 0.36551724137931035, 'Lung Lesion': 0.006172839506172839, 'Emphysema': 0.0, 'Edema': 0.2789115646258503, 'Consolidation': 0.17582417582417584, 'Atelectasis': 0.44242424242424244, 'Pneumothorax': 0.050505050505050504, 'Pleural Effusion': 0.6557377049180327, 'Fracture': 0.0, 'Hernia': 0.0, 'Infiltration': 0.0, 'Mass': 0.0, 'Nodule': 0.0, 'Pleural Other': 0.0, 'No Finding': 0.87}, 'accuracy': 2}\n"
     ]
    },
    {
     "name": "stderr",
     "output_type": "stream",
     "text": [
      "\n"
     ]
    }
   ],
   "source": [
    "\n",
    "#start.record()\n",
    "import time\n",
    "start = time.time()\n",
    "running_loss, results = infer_loop(model=model, loader=test_loader, criterion=criterion, device=device)\n",
    "#end.record()\n",
    "end=time.time()\n",
    "#torch.cuda.synchronize()\n",
    "#print(\"time : \", start.elapsed_time(end))\n",
    "print(end-start)\n",
    "#plt.imshow(np.sum(heatmaps[0][0].detach().cpu().numpy(), axis=0))\n",
    "#plt.savefig(\"heatmaps.png\")\n",
    "\n",
    "metric = Metrics(num_classes=18, names=names, threshold=np.zeros((18)) + 0.7)\n",
    "metrics = metric.metrics()\n",
    "metrics_results = {}\n",
    "for key in metrics:\n",
    "    pred = results[1].numpy()\n",
    "    true = results[0].numpy().round(0)\n",
    "    metric_result = metrics[key](true, pred)\n",
    "    metrics_results[key] = metric_result\n",
    "\n",
    "print(metrics_results)\n",
    "i=0"
   ]
  },
  {
   "cell_type": "code",
   "execution_count": 8,
   "metadata": {},
   "outputs": [
    {
     "ename": "AssertionError",
     "evalue": "",
     "output_type": "error",
     "traceback": [
      "\u001B[0;31m---------------------------------------------------------------------------\u001B[0m",
      "\u001B[0;31mAssertionError\u001B[0m                            Traceback (most recent call last)",
      "Cell \u001B[0;32mIn[8], line 14\u001B[0m\n\u001B[1;32m     12\u001B[0m path0\u001B[38;5;241m=\u001B[39m\u001B[38;5;124m\"\u001B[39m\u001B[38;5;124mc:/Users/joeda/PycharmProjects/IA-MED_IMG/data/1808916906062113_view0001.jpg\u001B[39m\u001B[38;5;124m\"\u001B[39m\n\u001B[1;32m     13\u001B[0m path1\u001B[38;5;241m=\u001B[39m\u001B[38;5;124m\"\u001B[39m\u001B[38;5;124mc:/Users/joeda/PycharmProjects/IA-MED_IMG/data/1808916906062113_view0002.jpg\u001B[39m\u001B[38;5;124m\"\u001B[39m\n\u001B[0;32m---> 14\u001B[0m \u001B[38;5;28;01massert\u001B[39;00m os\u001B[38;5;241m.\u001B[39mpath\u001B[38;5;241m.\u001B[39mexists(path0)\n\u001B[1;32m     15\u001B[0m image0 \u001B[38;5;241m=\u001B[39m np\u001B[38;5;241m.\u001B[39marray(cv\u001B[38;5;241m.\u001B[39mresize(cv\u001B[38;5;241m.\u001B[39mimread(\u001B[38;5;124mf\u001B[39m\u001B[38;5;124m\"\u001B[39m\u001B[38;5;132;01m{\u001B[39;00mimg_dir\u001B[38;5;132;01m}\u001B[39;00m\u001B[38;5;132;01m{\u001B[39;00mpath0\u001B[38;5;132;01m}\u001B[39;00m\u001B[38;5;124m\"\u001B[39m, cv\u001B[38;5;241m.\u001B[39mIMREAD_GRAYSCALE),(img_size,img_size)))\n\u001B[1;32m     16\u001B[0m image1 \u001B[38;5;241m=\u001B[39m np\u001B[38;5;241m.\u001B[39marray(cv\u001B[38;5;241m.\u001B[39mresize(cv\u001B[38;5;241m.\u001B[39mimread(\u001B[38;5;124mf\u001B[39m\u001B[38;5;124m\"\u001B[39m\u001B[38;5;132;01m{\u001B[39;00mimg_dir\u001B[38;5;132;01m}\u001B[39;00m\u001B[38;5;132;01m{\u001B[39;00mpath1\u001B[38;5;132;01m}\u001B[39;00m\u001B[38;5;124m\"\u001B[39m, cv\u001B[38;5;241m.\u001B[39mIMREAD_GRAYSCALE),(img_size,img_size)))\n",
      "\u001B[0;31mAssertionError\u001B[0m: "
     ]
    }
   ],
   "source": [
    "\"\"\"\n",
    "FOR A SPECIFIC IMAGE\n",
    "\"\"\"\n",
    "#inputs,labels=test_dataset[i]\n",
    "#Manually loading images\n",
    "import cv2 as cv\n",
    "from pytorch_grad_cam import FullGrad\n",
    "from PIL import Image\n",
    "cam=FullGrad(model,target_layers=[])\n",
    "img_size=384\n",
    "img_dir=\"\"\n",
    "path0=\"c:/Users/joeda/PycharmProjects/IA-MED_IMG/data/1808916906062113_view0001.jpg\"\n",
    "path1=\"c:/Users/joeda/PycharmProjects/IA-MED_IMG/data/1808916906062113_view0002.jpg\"\n",
    "assert os.path.exists(path0)\n",
    "image0 = np.array(cv.resize(cv.imread(f\"{img_dir}{path0}\", cv.IMREAD_GRAYSCALE),(img_size,img_size)))\n",
    "image1 = np.array(cv.resize(cv.imread(f\"{img_dir}{path1}\", cv.IMREAD_GRAYSCALE),(img_size,img_size)))\n",
    "inputs = np.concatenate([image0[None,:,:],image1[None,:,:]],axis=0)\n",
    "inputs=inputs[None,:,:,:]\n",
    "# inputs, labels = (\n",
    "#             inputs.to(device, non_blocking=True),\n",
    "#             labels.to(device, non_blocking=True),\n",
    "#         )\n",
    "\n",
    "\n",
    "inputs = torch.from_numpy(inputs).to(device,non_blocking=True)\n",
    "# forward + backward + optimize\n",
    "outputs = model(inputs)\n",
    "img0=inputs[:,0:1,:,:]\n",
    "heatmap0 = cam(img0.float()).squeeze() * -255+255\n",
    "\n",
    "img1=inputs[:,1:2,:,:]\n",
    "heatmap1 = cam(img1.float()).squeeze() * -255+255\n",
    "\n",
    "\n",
    "heatmap0 = np.array(cv.applyColorMap(cv.cvtColor(heatmap0[:, :, None].astype(np.uint8), cv.COLOR_RGB2BGR),\n",
    "                                          cv.COLORMAP_JET))\n",
    "\n",
    "heatmap1 = np.array(cv.applyColorMap(cv.cvtColor(heatmap1[:, :, None].astype(np.uint8), cv.COLOR_RGB2BGR),\n",
    "                                          cv.COLORMAP_JET))\n",
    "\n",
    "Image.fromarray(heatmap0).save(\"c:/Users/joeda/PycharmProjects/IA-MED_IMG/dataheatmap_frontal.jpg\")\n",
    "Image.fromarray(heatmap1).save(\"c:/Users/joeda/PycharmProjects/IA-MED_IMG/dataheatmap_lateral.jpg\")\n",
    "img0=img0.cpu().numpy().astype(np.uint8).squeeze()\n",
    "img1=img1.cpu().numpy().astype(np.uint8).squeeze()\n",
    "img0 = cv.cvtColor(img0,cv.COLOR_GRAY2RGB)\n",
    "img1=cv.cvtColor(img1,cv.COLOR_GRAY2RGB)\n",
    "heatmap0 = cv.addWeighted(heatmap0, 0.5, img0, 0.5, 0)\n",
    "heatmap1 = cv.addWeighted(heatmap1, 0.5, img1, 0.5, 0)\n",
    "plt.imshow(heatmap0.squeeze())\n",
    "plt.show()\n",
    "plt.imshow(heatmap1.squeeze())\n",
    "plt.show()\n",
    "labels=torch.zeros_like(outputs).to(device)\n",
    "#loss = criterion(outputs.squeeze(), labels)\n",
    "outputs = torch.sigmoid(outputs)\n",
    "\n",
    "i+=1\n",
    "plt.imshow(inputs.squeeze().numpy())\n",
    "data=pd.DataFrame([outputs.detach().numpy().squeeze(),labels.numpy().squeeze()],columns=names,index=[\"preds\",\"ground-truth\"])\n",
    "print(data.T)\n"
   ]
  },
  {
   "cell_type": "code",
   "execution_count": null,
   "metadata": {
    "pycharm": {
     "is_executing": true
    }
   },
   "outputs": [
    {
     "name": "stderr",
     "output_type": "stream",
     "text": [
      " 15%|█▍        | 7/48 [00:49<05:35,  8.18s/it]"
     ]
    }
   ],
   "source": [
    "\n",
    "#inputs,labels=test_dataset[i]\n",
    "#Manually loading images\n",
    "import cv2 as cv\n",
    "from pytorch_grad_cam.utils.model_targets import ClassifierOutputTarget\n",
    "from pytorch_grad_cam import FullGrad,EigenCAM,GradCAM,HiResCAM,GradCAMPlusPlus,ScoreCAM\n",
    "from PIL import Image\n",
    "\n",
    "cams=[\n",
    "    FullGrad(model,target_layers=[]),\n",
    "    EigenCAM(model,target_layers=[model.backbone.stages[-1]]),\n",
    "    GradCAM(model,target_layers=[model.backbone.stages[-1]]),\n",
    "    HiResCAM(model,target_layers=[model.backbone.stages[-1]]),\n",
    "    ScoreCAM(model,target_layers=[model.backbone.stages[-1]],use_cuda=True),\n",
    "]\n",
    "img_size=512\n",
    "\n",
    "inputs,labels,idx = test_dataset[i]\n",
    "inputs = inputs[None,:,:,:]\n",
    "inputs = inputs.to(device,non_blocking=True)\n",
    "# forward + backward + optimize\n",
    "outputs = model(inputs)\n",
    "img0=inputs[:,0:1,:,:]\n",
    "img1=inputs[:,1:2,:,:]\n",
    "# create figure\n",
    "fig = plt.figure(figsize=(10, 7))\n",
    "\n",
    "img0_display=img0.cpu().numpy().astype(np.uint8).squeeze()\n",
    "img1_display=img1.cpu().numpy().astype(np.uint8).squeeze()\n",
    "img0_display = cv.cvtColor(img0_display,cv.COLOR_GRAY2RGB)\n",
    "img1_display=cv.cvtColor(img1_display,cv.COLOR_GRAY2RGB)\n",
    "\n",
    "rows=2\n",
    "columns=len(cams)\n",
    "\n",
    "targets = [ClassifierOutputTarget(i) for i,output in enumerate(outputs.squeeze().cpu().tolist()) if output>0.5]\n",
    "\n",
    "for ex,cam in enumerate(cams,start=1) :\n",
    "    heatmap0 = cam(img0.float(),targets=targets).squeeze() * -255+255\n",
    "    heatmap1 = cam(img1.float(),targets=targets).squeeze() * -255+255\n",
    "\n",
    "    fig.add_subplot(rows, columns, ex)\n",
    "    heatmap0 = np.array(cv.applyColorMap(cv.cvtColor(heatmap0[:, :, None].astype(np.uint8), cv.COLOR_RGB2BGR),cv.COLORMAP_JET))\n",
    "    heatmap0 = cv.addWeighted(heatmap0, 0.5, img0_display, 0.5, 0)\n",
    "    plt.imshow(heatmap0.squeeze())\n",
    "\n",
    "    fig.add_subplot(rows, columns, len(cams)+ex)\n",
    "    heatmap1 = np.array(cv.applyColorMap(cv.cvtColor(heatmap1[:, :, None].astype(np.uint8), cv.COLOR_RGB2BGR),cv.COLORMAP_JET))\n",
    "    heatmap1 = cv.addWeighted(heatmap1, 0.5, img1_display, 0.5, 0)\n",
    "    plt.imshow(heatmap1.squeeze())\n",
    "\n",
    "i+=1\n",
    "plt.show()\n",
    "plt.imshow(img0_display)\n",
    "plt.show()\n",
    "plt.imshow(img1_display)\n",
    "plt.show()\n",
    "#Image.fromarray(heatmap0).save(\"c:/Users/joeda/PycharmProjects/IA-MED_IMG/dataheatmap_frontal.jpg\")\n",
    "#Image.fromarray(heatmap1).save(\"c:/Users/joeda/PycharmProjects/IA-MED_IMG/dataheatmap_lateral.jpg\")\n",
    "\n",
    "labels=torch.zeros_like(outputs).to(device)\n",
    "#loss = criterion(outputs.squeeze(), labels)\n",
    "outputs = torch.sigmoid(outputs)\n",
    "\n",
    "data=pd.DataFrame([outputs.cpu().detach().numpy().squeeze(),labels.cpu().numpy().squeeze()],columns=names,index=[\"preds\",\"ground-truth\"])\n",
    "\n",
    "print(data.T)\n",
    "\n"
   ]
  },
  {
   "cell_type": "code",
   "execution_count": null,
   "metadata": {},
   "outputs": [],
   "source": [
    "\n"
   ]
  },
  {
   "cell_type": "code",
   "execution_count": null,
   "metadata": {},
   "outputs": [],
   "source": []
  }
 ],
 "metadata": {
  "kernelspec": {
   "display_name": "Python 3 (ipykernel)",
   "language": "python",
   "name": "python3"
  },
  "language_info": {
   "codemirror_mode": {
    "name": "ipython",
    "version": 3
   },
   "file_extension": ".py",
   "mimetype": "text/x-python",
   "name": "python",
   "nbconvert_exporter": "python",
   "pygments_lexer": "ipython3",
   "version": "3.9.15"
  }
 },
 "nbformat": 4,
 "nbformat_minor": 1
}
